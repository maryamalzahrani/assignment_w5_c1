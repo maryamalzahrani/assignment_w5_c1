{
  "nbformat": 4,
  "nbformat_minor": 0,
  "metadata": {
    "kernelspec": {
      "display_name": "Python 3",
      "language": "python",
      "name": "python3"
    },
    "language_info": {
      "codemirror_mode": {
        "name": "ipython",
        "version": 3
      },
      "file_extension": ".py",
      "mimetype": "text/x-python",
      "name": "python",
      "nbconvert_exporter": "python",
      "pygments_lexer": "ipython3",
      "version": "3.8.5"
    },
    "colab": {
      "name": "assignment_w5_c1_template.ipynb",
      "provenance": [],
      "include_colab_link": true
    }
  },
  "cells": [
    {
      "cell_type": "markdown",
      "metadata": {
        "id": "view-in-github",
        "colab_type": "text"
      },
      "source": [
        "<a href=\"https://colab.research.google.com/github/maryamalzahrani/assignment_w5_c1/blob/main/assignment_w5_c1_template.ipynb\" target=\"_parent\"><img src=\"https://colab.research.google.com/assets/colab-badge.svg\" alt=\"Open In Colab\"/></a>"
      ]
    },
    {
      "cell_type": "markdown",
      "metadata": {
        "id": "MRaxDsTwwENS"
      },
      "source": [
        "Week 5, Assignment C1:\n",
        "\n",
        "Logistic Regression with Yahoo! Finance API in Python\n",
        "\n",
        "In this notebook, we will study Logistic Regression using the Yahoo! Finance API in Python.\n",
        "\n",
        "Please complete the lines bellow where you see \"#TODO\"."
      ]
    },
    {
      "cell_type": "code",
      "metadata": {
        "id": "MwUAi0wywENU"
      },
      "source": [
        "#Objective 1.\n",
        "#Use this cell to import the Numpy (as np), Pandas (as pd), and YFinance (as yf) packages.\n",
        "import pandas\n",
        "import numpy as np\n",
        "import pandas as pd\n",
        "import yfinance as yf\n",
        "\n",
        "#Our work will also require some components of the Sklearn and Pandas_Datareader packages as imported below:\n",
        "import sklearn\n",
        "from sklearn.linear_model import LogisticRegression\n",
        "from sklearn import metrics\n",
        "from sklearn.model_selection import cross_val_score\n",
        "from pandas_datareader import data as pdr\n",
        "yf.pdr_override()"
      ],
      "execution_count": 1,
      "outputs": []
    },
    {
      "cell_type": "code",
      "metadata": {
        "colab": {
          "base_uri": "https://localhost:8080/"
        },
        "id": "gd_ZQbr-xXVt",
        "outputId": "7a88a497-4d09-4316-99e7-d24f5765af27"
      },
      "source": [
        "pip install yfinance"
      ],
      "execution_count": 2,
      "outputs": [
        {
          "output_type": "stream",
          "name": "stdout",
          "text": [
            "Requirement already satisfied: yfinance in /usr/local/lib/python3.7/dist-packages (0.1.64)\n",
            "Requirement already satisfied: requests>=2.20 in /usr/local/lib/python3.7/dist-packages (from yfinance) (2.23.0)\n",
            "Requirement already satisfied: pandas>=0.24 in /usr/local/lib/python3.7/dist-packages (from yfinance) (1.1.5)\n",
            "Requirement already satisfied: multitasking>=0.0.7 in /usr/local/lib/python3.7/dist-packages (from yfinance) (0.0.9)\n",
            "Requirement already satisfied: lxml>=4.5.1 in /usr/local/lib/python3.7/dist-packages (from yfinance) (4.6.4)\n",
            "Requirement already satisfied: numpy>=1.15 in /usr/local/lib/python3.7/dist-packages (from yfinance) (1.19.5)\n",
            "Requirement already satisfied: pytz>=2017.2 in /usr/local/lib/python3.7/dist-packages (from pandas>=0.24->yfinance) (2018.9)\n",
            "Requirement already satisfied: python-dateutil>=2.7.3 in /usr/local/lib/python3.7/dist-packages (from pandas>=0.24->yfinance) (2.8.2)\n",
            "Requirement already satisfied: six>=1.5 in /usr/local/lib/python3.7/dist-packages (from python-dateutil>=2.7.3->pandas>=0.24->yfinance) (1.15.0)\n",
            "Requirement already satisfied: chardet<4,>=3.0.2 in /usr/local/lib/python3.7/dist-packages (from requests>=2.20->yfinance) (3.0.4)\n",
            "Requirement already satisfied: certifi>=2017.4.17 in /usr/local/lib/python3.7/dist-packages (from requests>=2.20->yfinance) (2021.5.30)\n",
            "Requirement already satisfied: idna<3,>=2.5 in /usr/local/lib/python3.7/dist-packages (from requests>=2.20->yfinance) (2.10)\n",
            "Requirement already satisfied: urllib3!=1.25.0,!=1.25.1,<1.26,>=1.21.1 in /usr/local/lib/python3.7/dist-packages (from requests>=2.20->yfinance) (1.24.3)\n"
          ]
        }
      ]
    },
    {
      "cell_type": "code",
      "metadata": {
        "colab": {
          "base_uri": "https://localhost:8080/"
        },
        "id": "hV3kxvuGwdoO",
        "outputId": "a160f604-65a7-49f4-ff93-598a7baa64af"
      },
      "source": [
        "!pip install matplotlib-venn"
      ],
      "execution_count": 3,
      "outputs": [
        {
          "output_type": "stream",
          "name": "stdout",
          "text": [
            "Requirement already satisfied: matplotlib-venn in /usr/local/lib/python3.7/dist-packages (0.11.6)\n",
            "Requirement already satisfied: matplotlib in /usr/local/lib/python3.7/dist-packages (from matplotlib-venn) (3.2.2)\n",
            "Requirement already satisfied: numpy in /usr/local/lib/python3.7/dist-packages (from matplotlib-venn) (1.19.5)\n",
            "Requirement already satisfied: scipy in /usr/local/lib/python3.7/dist-packages (from matplotlib-venn) (1.4.1)\n",
            "Requirement already satisfied: pyparsing!=2.0.4,!=2.1.2,!=2.1.6,>=2.0.1 in /usr/local/lib/python3.7/dist-packages (from matplotlib->matplotlib-venn) (2.4.7)\n",
            "Requirement already satisfied: kiwisolver>=1.0.1 in /usr/local/lib/python3.7/dist-packages (from matplotlib->matplotlib-venn) (1.3.2)\n",
            "Requirement already satisfied: cycler>=0.10 in /usr/local/lib/python3.7/dist-packages (from matplotlib->matplotlib-venn) (0.10.0)\n",
            "Requirement already satisfied: python-dateutil>=2.1 in /usr/local/lib/python3.7/dist-packages (from matplotlib->matplotlib-venn) (2.8.2)\n",
            "Requirement already satisfied: six in /usr/local/lib/python3.7/dist-packages (from cycler>=0.10->matplotlib->matplotlib-venn) (1.15.0)\n"
          ]
        }
      ]
    },
    {
      "cell_type": "code",
      "metadata": {
        "id": "-HxGKBcXwjQW"
      },
      "source": [
        "!apt-get -qq install -y libfluidsynth1"
      ],
      "execution_count": 4,
      "outputs": []
    },
    {
      "cell_type": "code",
      "metadata": {
        "id": "VdGirdaOwENV"
      },
      "source": [
        "#Objective 2.\n",
        "#Select a stock symbol for a stock whose historical data is available on the Yahoo! Finance website.  Store the\n",
        "#string of your chosen symbol to the new variable \"stock_symbol\".\n",
        "\n",
        "stock_symbol = 'APPLE'"
      ],
      "execution_count": 31,
      "outputs": []
    },
    {
      "cell_type": "code",
      "metadata": {
        "id": "s8XHSkGA1snt"
      },
      "source": [
        "import datetime"
      ],
      "execution_count": 6,
      "outputs": []
    },
    {
      "cell_type": "code",
      "metadata": {
        "colab": {
          "base_uri": "https://localhost:8080/"
        },
        "id": "cJGcZgj42X4M",
        "outputId": "94d5f10f-ee8a-4d8f-c2df-439c2b900b2d"
      },
      "source": [
        "pip install git-timestamp"
      ],
      "execution_count": 7,
      "outputs": [
        {
          "output_type": "stream",
          "name": "stdout",
          "text": [
            "Requirement already satisfied: git-timestamp in /usr/local/lib/python3.7/dist-packages (1.1.0)\n",
            "Requirement already satisfied: pygit2 in /usr/local/lib/python3.7/dist-packages (from git-timestamp) (1.7.0)\n",
            "Requirement already satisfied: deltat~=1.1 in /usr/local/lib/python3.7/dist-packages (from git-timestamp) (1.1.0)\n",
            "Requirement already satisfied: configargparse in /usr/local/lib/python3.7/dist-packages (from git-timestamp) (1.5.3)\n",
            "Requirement already satisfied: python-gnupg in /usr/local/lib/python3.7/dist-packages (from git-timestamp) (0.4.7)\n",
            "Requirement already satisfied: setuptools in /usr/local/lib/python3.7/dist-packages (from git-timestamp) (57.4.0)\n",
            "Requirement already satisfied: requests in /usr/local/lib/python3.7/dist-packages (from git-timestamp) (2.23.0)\n",
            "Requirement already satisfied: cached-property in /usr/local/lib/python3.7/dist-packages (from pygit2->git-timestamp) (1.5.2)\n",
            "Requirement already satisfied: cffi>=1.4.0 in /usr/local/lib/python3.7/dist-packages (from pygit2->git-timestamp) (1.14.6)\n",
            "Requirement already satisfied: pycparser in /usr/local/lib/python3.7/dist-packages (from cffi>=1.4.0->pygit2->git-timestamp) (2.20)\n",
            "Requirement already satisfied: chardet<4,>=3.0.2 in /usr/local/lib/python3.7/dist-packages (from requests->git-timestamp) (3.0.4)\n",
            "Requirement already satisfied: certifi>=2017.4.17 in /usr/local/lib/python3.7/dist-packages (from requests->git-timestamp) (2021.5.30)\n",
            "Requirement already satisfied: idna<3,>=2.5 in /usr/local/lib/python3.7/dist-packages (from requests->git-timestamp) (2.10)\n",
            "Requirement already satisfied: urllib3!=1.25.0,!=1.25.1,<1.26,>=1.21.1 in /usr/local/lib/python3.7/dist-packages (from requests->git-timestamp) (1.24.3)\n"
          ]
        }
      ]
    },
    {
      "cell_type": "code",
      "metadata": {
        "colab": {
          "base_uri": "https://localhost:8080/"
        },
        "id": "-LRnYx3U6pDb",
        "outputId": "891148e3-f933-4722-b203-063199ad1ca9"
      },
      "source": [
        "dft = pdr.get_data_yahoo(stock_symbol,pandas.Timestamp('2019'), pandas.Timestamp('2021'))"
      ],
      "execution_count": 8,
      "outputs": [
        {
          "output_type": "stream",
          "name": "stdout",
          "text": [
            "\r[*********************100%***********************]  1 of 1 completed\n"
          ]
        }
      ]
    },
    {
      "cell_type": "code",
      "metadata": {
        "colab": {
          "base_uri": "https://localhost:8080/"
        },
        "id": "UOHLQG0t7Egb",
        "outputId": "68b1ed89-8fb0-45bf-d8b3-8143b65a83eb"
      },
      "source": [
        "np.nan"
      ],
      "execution_count": 9,
      "outputs": [
        {
          "output_type": "execute_result",
          "data": {
            "text/plain": [
              "nan"
            ]
          },
          "metadata": {},
          "execution_count": 9
        }
      ]
    },
    {
      "cell_type": "code",
      "metadata": {
        "colab": {
          "base_uri": "https://localhost:8080/"
        },
        "id": "JG0Imwb67Jy8",
        "outputId": "b090dc94-99e1-40f2-8342-7ba3c4963498"
      },
      "source": [
        "type(np.nan)"
      ],
      "execution_count": 10,
      "outputs": [
        {
          "output_type": "execute_result",
          "data": {
            "text/plain": [
              "float"
            ]
          },
          "metadata": {},
          "execution_count": 10
        }
      ]
    },
    {
      "cell_type": "code",
      "metadata": {
        "colab": {
          "base_uri": "https://localhost:8080/"
        },
        "id": "jzGos8dnwENW",
        "outputId": "04e8acc3-9c67-405f-a934-ae843a14d593"
      },
      "source": [
        "#Objective 3.\n",
        "#Use the function \"pdr.get_data_yahoo(stock_symbol, start_date, end_date)\" to generate a Pandas dataframe of\n",
        "#historical stock data for your chosen stock.  Retain only the first four columns of the dataframe.  Be sure to \n",
        "#drop any rows containing NaN's, and take a peek at the resulting dataframe to make sure everything looks good.\n",
        "\n",
        "df = pdr.get_data_yahoo(stock_symbol,pandas.Timestamp('2019'), pandas.Timestamp('2021'))\n",
        "df = df[['Open','High','Low','Close']]\n",
        "df = df.dropna()"
      ],
      "execution_count": 11,
      "outputs": [
        {
          "output_type": "stream",
          "name": "stdout",
          "text": [
            "\r[*********************100%***********************]  1 of 1 completed\n"
          ]
        }
      ]
    },
    {
      "cell_type": "code",
      "metadata": {
        "colab": {
          "base_uri": "https://localhost:8080/"
        },
        "id": "483zMswX90C7",
        "outputId": "eadb9d77-9375-476b-c085-2c883b7c3281"
      },
      "source": [
        "df.rolling(window=2)"
      ],
      "execution_count": 12,
      "outputs": [
        {
          "output_type": "execute_result",
          "data": {
            "text/plain": [
              "Rolling [window=2,center=False,axis=0]"
            ]
          },
          "metadata": {},
          "execution_count": 12
        }
      ]
    },
    {
      "cell_type": "code",
      "metadata": {
        "colab": {
          "base_uri": "https://localhost:8080/",
          "height": 450
        },
        "id": "93QIq2vI-UWL",
        "outputId": "2ad28e15-7a60-417e-e0cf-80bd21b8231a"
      },
      "source": [
        "df.rolling(window=2).apply(np.sum)"
      ],
      "execution_count": 13,
      "outputs": [
        {
          "output_type": "execute_result",
          "data": {
            "text/html": [
              "<div>\n",
              "<style scoped>\n",
              "    .dataframe tbody tr th:only-of-type {\n",
              "        vertical-align: middle;\n",
              "    }\n",
              "\n",
              "    .dataframe tbody tr th {\n",
              "        vertical-align: top;\n",
              "    }\n",
              "\n",
              "    .dataframe thead th {\n",
              "        text-align: right;\n",
              "    }\n",
              "</style>\n",
              "<table border=\"1\" class=\"dataframe\">\n",
              "  <thead>\n",
              "    <tr style=\"text-align: right;\">\n",
              "      <th></th>\n",
              "      <th>Open</th>\n",
              "      <th>High</th>\n",
              "      <th>Low</th>\n",
              "      <th>Close</th>\n",
              "    </tr>\n",
              "    <tr>\n",
              "      <th>Date</th>\n",
              "      <th></th>\n",
              "      <th></th>\n",
              "      <th></th>\n",
              "      <th></th>\n",
              "    </tr>\n",
              "  </thead>\n",
              "  <tbody>\n",
              "    <tr>\n",
              "      <th>2019-01-02</th>\n",
              "      <td>NaN</td>\n",
              "      <td>NaN</td>\n",
              "      <td>NaN</td>\n",
              "      <td>NaN</td>\n",
              "    </tr>\n",
              "    <tr>\n",
              "      <th>2019-01-03</th>\n",
              "      <td>74.717499</td>\n",
              "      <td>76.142502</td>\n",
              "      <td>74.057499</td>\n",
              "      <td>75.027500</td>\n",
              "    </tr>\n",
              "    <tr>\n",
              "      <th>2019-01-04</th>\n",
              "      <td>72.127499</td>\n",
              "      <td>73.567501</td>\n",
              "      <td>71.450001</td>\n",
              "      <td>72.612499</td>\n",
              "    </tr>\n",
              "    <tr>\n",
              "      <th>2019-01-07</th>\n",
              "      <td>73.307499</td>\n",
              "      <td>74.345001</td>\n",
              "      <td>72.424999</td>\n",
              "      <td>74.047497</td>\n",
              "    </tr>\n",
              "    <tr>\n",
              "      <th>2019-01-08</th>\n",
              "      <td>74.564999</td>\n",
              "      <td>75.162502</td>\n",
              "      <td>73.605000</td>\n",
              "      <td>74.669998</td>\n",
              "    </tr>\n",
              "    <tr>\n",
              "      <th>...</th>\n",
              "      <td>...</td>\n",
              "      <td>...</td>\n",
              "      <td>...</td>\n",
              "      <td>...</td>\n",
              "    </tr>\n",
              "    <tr>\n",
              "      <th>2020-12-24</th>\n",
              "      <td>263.480011</td>\n",
              "      <td>265.889999</td>\n",
              "      <td>261.880005</td>\n",
              "      <td>262.930008</td>\n",
              "    </tr>\n",
              "    <tr>\n",
              "      <th>2020-12-28</th>\n",
              "      <td>265.310013</td>\n",
              "      <td>270.800003</td>\n",
              "      <td>264.610001</td>\n",
              "      <td>268.660004</td>\n",
              "    </tr>\n",
              "    <tr>\n",
              "      <th>2020-12-29</th>\n",
              "      <td>272.040009</td>\n",
              "      <td>276.129990</td>\n",
              "      <td>267.849991</td>\n",
              "      <td>271.559998</td>\n",
              "    </tr>\n",
              "    <tr>\n",
              "      <th>2020-12-30</th>\n",
              "      <td>273.630005</td>\n",
              "      <td>274.779999</td>\n",
              "      <td>267.739990</td>\n",
              "      <td>268.589996</td>\n",
              "    </tr>\n",
              "    <tr>\n",
              "      <th>2020-12-31</th>\n",
              "      <td>269.660004</td>\n",
              "      <td>270.730011</td>\n",
              "      <td>265.119995</td>\n",
              "      <td>266.410004</td>\n",
              "    </tr>\n",
              "  </tbody>\n",
              "</table>\n",
              "<p>505 rows × 4 columns</p>\n",
              "</div>"
            ],
            "text/plain": [
              "                  Open        High         Low       Close\n",
              "Date                                                      \n",
              "2019-01-02         NaN         NaN         NaN         NaN\n",
              "2019-01-03   74.717499   76.142502   74.057499   75.027500\n",
              "2019-01-04   72.127499   73.567501   71.450001   72.612499\n",
              "2019-01-07   73.307499   74.345001   72.424999   74.047497\n",
              "2019-01-08   74.564999   75.162502   73.605000   74.669998\n",
              "...                ...         ...         ...         ...\n",
              "2020-12-24  263.480011  265.889999  261.880005  262.930008\n",
              "2020-12-28  265.310013  270.800003  264.610001  268.660004\n",
              "2020-12-29  272.040009  276.129990  267.849991  271.559998\n",
              "2020-12-30  273.630005  274.779999  267.739990  268.589996\n",
              "2020-12-31  269.660004  270.730011  265.119995  266.410004\n",
              "\n",
              "[505 rows x 4 columns]"
            ]
          },
          "metadata": {},
          "execution_count": 13
        }
      ]
    },
    {
      "cell_type": "code",
      "metadata": {
        "id": "VXexCXqXwENW"
      },
      "source": [
        "#Objective 4.\n",
        "#Use the historical data to define some predictor variables.  Add these variables to the dataframe.  Include, at a\n",
        "#minimum, (Predictor.I) the rolling average closing price over the past fifteen (15) days and (Predictor.II) the\n",
        "#change in opening price over the past one (1) day.  Be sure to again drop any rows containing NaN's, and take a\n",
        "#peek at the resulting dataframe to make sure everything looks good.  Store the dataframe as the new variable \"X\".\n",
        "\n",
        "df['Close_15_Rolling'] = df['Close'].rolling(window=15).mean()\n",
        "df['Open_1_Change'] = df['Open'].diff()\n",
        "df =df.dropna()\n",
        "X = df"
      ],
      "execution_count": 14,
      "outputs": []
    },
    {
      "cell_type": "code",
      "metadata": {
        "colab": {
          "base_uri": "https://localhost:8080/",
          "height": 450
        },
        "id": "BbVKcVBrFnzy",
        "outputId": "3767a73a-e2e6-4964-8fdc-82e922256ac0"
      },
      "source": [
        "X"
      ],
      "execution_count": 15,
      "outputs": [
        {
          "output_type": "execute_result",
          "data": {
            "text/html": [
              "<div>\n",
              "<style scoped>\n",
              "    .dataframe tbody tr th:only-of-type {\n",
              "        vertical-align: middle;\n",
              "    }\n",
              "\n",
              "    .dataframe tbody tr th {\n",
              "        vertical-align: top;\n",
              "    }\n",
              "\n",
              "    .dataframe thead th {\n",
              "        text-align: right;\n",
              "    }\n",
              "</style>\n",
              "<table border=\"1\" class=\"dataframe\">\n",
              "  <thead>\n",
              "    <tr style=\"text-align: right;\">\n",
              "      <th></th>\n",
              "      <th>Open</th>\n",
              "      <th>High</th>\n",
              "      <th>Low</th>\n",
              "      <th>Close</th>\n",
              "      <th>Close_15_Rolling</th>\n",
              "      <th>Open_1_Change</th>\n",
              "    </tr>\n",
              "    <tr>\n",
              "      <th>Date</th>\n",
              "      <th></th>\n",
              "      <th></th>\n",
              "      <th></th>\n",
              "      <th></th>\n",
              "      <th></th>\n",
              "      <th></th>\n",
              "    </tr>\n",
              "  </thead>\n",
              "  <tbody>\n",
              "    <tr>\n",
              "      <th>2019-01-23</th>\n",
              "      <td>38.537498</td>\n",
              "      <td>38.785000</td>\n",
              "      <td>37.924999</td>\n",
              "      <td>38.480000</td>\n",
              "      <td>38.072667</td>\n",
              "      <td>-0.565002</td>\n",
              "    </tr>\n",
              "    <tr>\n",
              "      <th>2019-01-24</th>\n",
              "      <td>38.527500</td>\n",
              "      <td>38.619999</td>\n",
              "      <td>37.935001</td>\n",
              "      <td>38.174999</td>\n",
              "      <td>37.985667</td>\n",
              "      <td>-0.009998</td>\n",
              "    </tr>\n",
              "    <tr>\n",
              "      <th>2019-01-25</th>\n",
              "      <td>38.869999</td>\n",
              "      <td>39.532501</td>\n",
              "      <td>38.580002</td>\n",
              "      <td>39.439999</td>\n",
              "      <td>38.245167</td>\n",
              "      <td>0.342499</td>\n",
              "    </tr>\n",
              "    <tr>\n",
              "      <th>2019-01-28</th>\n",
              "      <td>38.947498</td>\n",
              "      <td>39.082500</td>\n",
              "      <td>38.415001</td>\n",
              "      <td>39.075001</td>\n",
              "      <td>38.379167</td>\n",
              "      <td>0.077499</td>\n",
              "    </tr>\n",
              "    <tr>\n",
              "      <th>2019-01-29</th>\n",
              "      <td>39.062500</td>\n",
              "      <td>39.532501</td>\n",
              "      <td>38.527500</td>\n",
              "      <td>38.669998</td>\n",
              "      <td>38.491667</td>\n",
              "      <td>0.115002</td>\n",
              "    </tr>\n",
              "    <tr>\n",
              "      <th>...</th>\n",
              "      <td>...</td>\n",
              "      <td>...</td>\n",
              "      <td>...</td>\n",
              "      <td>...</td>\n",
              "      <td>...</td>\n",
              "      <td>...</td>\n",
              "    </tr>\n",
              "    <tr>\n",
              "      <th>2020-12-24</th>\n",
              "      <td>131.320007</td>\n",
              "      <td>133.460007</td>\n",
              "      <td>131.100006</td>\n",
              "      <td>131.970001</td>\n",
              "      <td>126.245333</td>\n",
              "      <td>-0.839996</td>\n",
              "    </tr>\n",
              "    <tr>\n",
              "      <th>2020-12-28</th>\n",
              "      <td>133.990005</td>\n",
              "      <td>137.339996</td>\n",
              "      <td>133.509995</td>\n",
              "      <td>136.690002</td>\n",
              "      <td>127.208000</td>\n",
              "      <td>2.669998</td>\n",
              "    </tr>\n",
              "    <tr>\n",
              "      <th>2020-12-29</th>\n",
              "      <td>138.050003</td>\n",
              "      <td>138.789993</td>\n",
              "      <td>134.339996</td>\n",
              "      <td>134.869995</td>\n",
              "      <td>127.949333</td>\n",
              "      <td>4.059998</td>\n",
              "    </tr>\n",
              "    <tr>\n",
              "      <th>2020-12-30</th>\n",
              "      <td>135.580002</td>\n",
              "      <td>135.990005</td>\n",
              "      <td>133.399994</td>\n",
              "      <td>133.720001</td>\n",
              "      <td>128.572000</td>\n",
              "      <td>-2.470001</td>\n",
              "    </tr>\n",
              "    <tr>\n",
              "      <th>2020-12-31</th>\n",
              "      <td>134.080002</td>\n",
              "      <td>134.740005</td>\n",
              "      <td>131.720001</td>\n",
              "      <td>132.690002</td>\n",
              "      <td>129.299334</td>\n",
              "      <td>-1.500000</td>\n",
              "    </tr>\n",
              "  </tbody>\n",
              "</table>\n",
              "<p>491 rows × 6 columns</p>\n",
              "</div>"
            ],
            "text/plain": [
              "                  Open        High  ...  Close_15_Rolling  Open_1_Change\n",
              "Date                                ...                                 \n",
              "2019-01-23   38.537498   38.785000  ...         38.072667      -0.565002\n",
              "2019-01-24   38.527500   38.619999  ...         37.985667      -0.009998\n",
              "2019-01-25   38.869999   39.532501  ...         38.245167       0.342499\n",
              "2019-01-28   38.947498   39.082500  ...         38.379167       0.077499\n",
              "2019-01-29   39.062500   39.532501  ...         38.491667       0.115002\n",
              "...                ...         ...  ...               ...            ...\n",
              "2020-12-24  131.320007  133.460007  ...        126.245333      -0.839996\n",
              "2020-12-28  133.990005  137.339996  ...        127.208000       2.669998\n",
              "2020-12-29  138.050003  138.789993  ...        127.949333       4.059998\n",
              "2020-12-30  135.580002  135.990005  ...        128.572000      -2.470001\n",
              "2020-12-31  134.080002  134.740005  ...        129.299334      -1.500000\n",
              "\n",
              "[491 rows x 6 columns]"
            ]
          },
          "metadata": {},
          "execution_count": 15
        }
      ]
    },
    {
      "cell_type": "code",
      "metadata": {
        "colab": {
          "base_uri": "https://localhost:8080/",
          "height": 450
        },
        "id": "gOliW246wECO",
        "outputId": "ba34baaf-9a85-4b76-eaf4-0c75b2482600"
      },
      "source": [
        "df"
      ],
      "execution_count": 30,
      "outputs": [
        {
          "output_type": "execute_result",
          "data": {
            "text/html": [
              "<div>\n",
              "<style scoped>\n",
              "    .dataframe tbody tr th:only-of-type {\n",
              "        vertical-align: middle;\n",
              "    }\n",
              "\n",
              "    .dataframe tbody tr th {\n",
              "        vertical-align: top;\n",
              "    }\n",
              "\n",
              "    .dataframe thead th {\n",
              "        text-align: right;\n",
              "    }\n",
              "</style>\n",
              "<table border=\"1\" class=\"dataframe\">\n",
              "  <thead>\n",
              "    <tr style=\"text-align: right;\">\n",
              "      <th></th>\n",
              "      <th>Open</th>\n",
              "      <th>High</th>\n",
              "      <th>Low</th>\n",
              "      <th>Close</th>\n",
              "      <th>Close_15_Rolling</th>\n",
              "      <th>Open_1_Change</th>\n",
              "    </tr>\n",
              "    <tr>\n",
              "      <th>Date</th>\n",
              "      <th></th>\n",
              "      <th></th>\n",
              "      <th></th>\n",
              "      <th></th>\n",
              "      <th></th>\n",
              "      <th></th>\n",
              "    </tr>\n",
              "  </thead>\n",
              "  <tbody>\n",
              "    <tr>\n",
              "      <th>2019-01-23</th>\n",
              "      <td>38.537498</td>\n",
              "      <td>38.785000</td>\n",
              "      <td>37.924999</td>\n",
              "      <td>38.480000</td>\n",
              "      <td>38.072667</td>\n",
              "      <td>-0.565002</td>\n",
              "    </tr>\n",
              "    <tr>\n",
              "      <th>2019-01-24</th>\n",
              "      <td>38.527500</td>\n",
              "      <td>38.619999</td>\n",
              "      <td>37.935001</td>\n",
              "      <td>38.174999</td>\n",
              "      <td>37.985667</td>\n",
              "      <td>-0.009998</td>\n",
              "    </tr>\n",
              "    <tr>\n",
              "      <th>2019-01-25</th>\n",
              "      <td>38.869999</td>\n",
              "      <td>39.532501</td>\n",
              "      <td>38.580002</td>\n",
              "      <td>39.439999</td>\n",
              "      <td>38.245167</td>\n",
              "      <td>0.342499</td>\n",
              "    </tr>\n",
              "    <tr>\n",
              "      <th>2019-01-28</th>\n",
              "      <td>38.947498</td>\n",
              "      <td>39.082500</td>\n",
              "      <td>38.415001</td>\n",
              "      <td>39.075001</td>\n",
              "      <td>38.379167</td>\n",
              "      <td>0.077499</td>\n",
              "    </tr>\n",
              "    <tr>\n",
              "      <th>2019-01-29</th>\n",
              "      <td>39.062500</td>\n",
              "      <td>39.532501</td>\n",
              "      <td>38.527500</td>\n",
              "      <td>38.669998</td>\n",
              "      <td>38.491667</td>\n",
              "      <td>0.115002</td>\n",
              "    </tr>\n",
              "    <tr>\n",
              "      <th>...</th>\n",
              "      <td>...</td>\n",
              "      <td>...</td>\n",
              "      <td>...</td>\n",
              "      <td>...</td>\n",
              "      <td>...</td>\n",
              "      <td>...</td>\n",
              "    </tr>\n",
              "    <tr>\n",
              "      <th>2020-12-24</th>\n",
              "      <td>131.320007</td>\n",
              "      <td>133.460007</td>\n",
              "      <td>131.100006</td>\n",
              "      <td>131.970001</td>\n",
              "      <td>126.245333</td>\n",
              "      <td>-0.839996</td>\n",
              "    </tr>\n",
              "    <tr>\n",
              "      <th>2020-12-28</th>\n",
              "      <td>133.990005</td>\n",
              "      <td>137.339996</td>\n",
              "      <td>133.509995</td>\n",
              "      <td>136.690002</td>\n",
              "      <td>127.208000</td>\n",
              "      <td>2.669998</td>\n",
              "    </tr>\n",
              "    <tr>\n",
              "      <th>2020-12-29</th>\n",
              "      <td>138.050003</td>\n",
              "      <td>138.789993</td>\n",
              "      <td>134.339996</td>\n",
              "      <td>134.869995</td>\n",
              "      <td>127.949333</td>\n",
              "      <td>4.059998</td>\n",
              "    </tr>\n",
              "    <tr>\n",
              "      <th>2020-12-30</th>\n",
              "      <td>135.580002</td>\n",
              "      <td>135.990005</td>\n",
              "      <td>133.399994</td>\n",
              "      <td>133.720001</td>\n",
              "      <td>128.572000</td>\n",
              "      <td>-2.470001</td>\n",
              "    </tr>\n",
              "    <tr>\n",
              "      <th>2020-12-31</th>\n",
              "      <td>134.080002</td>\n",
              "      <td>134.740005</td>\n",
              "      <td>131.720001</td>\n",
              "      <td>132.690002</td>\n",
              "      <td>129.299334</td>\n",
              "      <td>-1.500000</td>\n",
              "    </tr>\n",
              "  </tbody>\n",
              "</table>\n",
              "<p>491 rows × 6 columns</p>\n",
              "</div>"
            ],
            "text/plain": [
              "                  Open        High  ...  Close_15_Rolling  Open_1_Change\n",
              "Date                                ...                                 \n",
              "2019-01-23   38.537498   38.785000  ...         38.072667      -0.565002\n",
              "2019-01-24   38.527500   38.619999  ...         37.985667      -0.009998\n",
              "2019-01-25   38.869999   39.532501  ...         38.245167       0.342499\n",
              "2019-01-28   38.947498   39.082500  ...         38.379167       0.077499\n",
              "2019-01-29   39.062500   39.532501  ...         38.491667       0.115002\n",
              "...                ...         ...  ...               ...            ...\n",
              "2020-12-24  131.320007  133.460007  ...        126.245333      -0.839996\n",
              "2020-12-28  133.990005  137.339996  ...        127.208000       2.669998\n",
              "2020-12-29  138.050003  138.789993  ...        127.949333       4.059998\n",
              "2020-12-30  135.580002  135.990005  ...        128.572000      -2.470001\n",
              "2020-12-31  134.080002  134.740005  ...        129.299334      -1.500000\n",
              "\n",
              "[491 rows x 6 columns]"
            ]
          },
          "metadata": {},
          "execution_count": 30
        }
      ]
    },
    {
      "cell_type": "code",
      "metadata": {
        "colab": {
          "base_uri": "https://localhost:8080/"
        },
        "id": "njPTMsk_HJsr",
        "outputId": "662cb779-a6a2-4f45-c7b2-ef50ad32807b"
      },
      "source": [
        "X.isna().any()"
      ],
      "execution_count": 16,
      "outputs": [
        {
          "output_type": "execute_result",
          "data": {
            "text/plain": [
              "Open                False\n",
              "High                False\n",
              "Low                 False\n",
              "Close               False\n",
              "Close_15_Rolling    False\n",
              "Open_1_Change       False\n",
              "dtype: bool"
            ]
          },
          "metadata": {},
          "execution_count": 16
        }
      ]
    },
    {
      "cell_type": "code",
      "metadata": {
        "colab": {
          "base_uri": "https://localhost:8080/"
        },
        "id": "-KH4OLsuJrCi",
        "outputId": "ec41a066-bf2f-4a28-ea3f-13c338401256"
      },
      "source": [
        "df.Close"
      ],
      "execution_count": 17,
      "outputs": [
        {
          "output_type": "execute_result",
          "data": {
            "text/plain": [
              "Date\n",
              "2019-01-23     38.480000\n",
              "2019-01-24     38.174999\n",
              "2019-01-25     39.439999\n",
              "2019-01-28     39.075001\n",
              "2019-01-29     38.669998\n",
              "                 ...    \n",
              "2020-12-24    131.970001\n",
              "2020-12-28    136.690002\n",
              "2020-12-29    134.869995\n",
              "2020-12-30    133.720001\n",
              "2020-12-31    132.690002\n",
              "Name: Close, Length: 491, dtype: float64"
            ]
          },
          "metadata": {},
          "execution_count": 17
        }
      ]
    },
    {
      "cell_type": "code",
      "metadata": {
        "colab": {
          "base_uri": "https://localhost:8080/"
        },
        "id": "ybBl38f1KvbB",
        "outputId": "85d695f7-08b8-4e44-a5cd-2b4fab021ced"
      },
      "source": [
        "df.Close.diff(-1) == (df.Close.shift(-1) - df.Close)"
      ],
      "execution_count": 18,
      "outputs": [
        {
          "output_type": "execute_result",
          "data": {
            "text/plain": [
              "Date\n",
              "2019-01-23    False\n",
              "2019-01-24    False\n",
              "2019-01-25    False\n",
              "2019-01-28    False\n",
              "2019-01-29    False\n",
              "              ...  \n",
              "2020-12-24    False\n",
              "2020-12-28    False\n",
              "2020-12-29    False\n",
              "2020-12-30    False\n",
              "2020-12-31    False\n",
              "Name: Close, Length: 491, dtype: bool"
            ]
          },
          "metadata": {},
          "execution_count": 18
        }
      ]
    },
    {
      "cell_type": "code",
      "metadata": {
        "id": "kAdpcDEHwENX"
      },
      "source": [
        "#Objective 5.\n",
        "#Define the target or dependent variable to be one (1) if the change in closing price over the past one (1) day is\n",
        "#nonnegative and negative one (-1) if the change in closing price over the past one (1) day is negative.  This\n",
        "#variable's values should be forward-looking (i.e., you should subtract today's price from tomorrow's price rather\n",
        "#than subtracting yesterday's price from today's price).  Store the resulting values as the new variable \"y\".  You\n",
        "#may find the \"np.where(*args)\" function to be useful.  Look it up in Numpy documentation for support.\n",
        "\n",
        "y = np.where((df.Close.shift(-1)-df['Close'])>=0,1,-1)"
      ],
      "execution_count": 19,
      "outputs": []
    },
    {
      "cell_type": "code",
      "metadata": {
        "colab": {
          "base_uri": "https://localhost:8080/"
        },
        "id": "Via9-DzWwENX",
        "outputId": "13fc3515-355d-407f-9680-c1b424c9a150"
      },
      "source": [
        "#Objective 6.\n",
        "#Split the data into training and test sets, putting the first seventy percent (70%) of the data in the training\n",
        "#set.\n",
        "\n",
        "index = int(0.7*len(X))\n",
        "X_train = X[:index]\n",
        "X_test = X[index:]\n",
        "y_train = y[:index]\n",
        "y_test =  y[index:]\n",
        "\n",
        "logistic = LogisticRegression()\n",
        "logistic = logistic.fit(X_train,y_train)\n",
        "probabilities = logistic.predict_proba(X_test)\n",
        "predictions = logistic.predict(X_test)\n",
        "print(sklearn.metrics.classification_report(y_pred=predictions,y_true=y_test))\n",
        "\n",
        "\n",
        "\n",
        "pred_df = df.iloc[index:]\n",
        "\n",
        "pred_df['true_labe1'] = y_test\n",
        "pred_df['prediction'] = predictions\n",
        "\n",
        "# close to close difference \n",
        "c2c_price = pred_df.Close.shift(-1) - pred_df.Close #\n",
        "\n",
        "\n",
        "returns = pred_df.prediction*c2c_price\n",
        "\n",
        "trend_trading_rule = pred_df['Close_15_Rolling']<pred_df['Open']\n",
        "\n",
        "pred_df['returns'] = returns\n",
        "pred_df['c_returns'] = returns.cumsum()\n",
        "\n",
        "# Trade cost analysis\n",
        "\n",
        "pred_df['trade_cost'] = 1.00 *2 # tow trades per day, 1$ per trade.\n",
        "cumlative_cost = pred_df['trade_cost'].cumsum()\n",
        "\n",
        "pred_df['cum_returns_w_cost'] = returns.cumsum() - cumlative_cost\n",
        "\n",
        "#pred_df['trend_trading_rule'] = trend_trading_rule\n",
        "#pred_df['trend_trading_returns'] = trend_trading_rule*c2c_price\n",
        "#pred_df['trend_trading_c_returns'] = pred_df['trend_trading_returns'].cumsum()\n",
        "\n",
        "\n"
      ],
      "execution_count": 20,
      "outputs": [
        {
          "output_type": "stream",
          "name": "stdout",
          "text": [
            "              precision    recall  f1-score   support\n",
            "\n",
            "          -1       0.48      0.46      0.47        65\n",
            "           1       0.59      0.60      0.60        83\n",
            "\n",
            "    accuracy                           0.54       148\n",
            "   macro avg       0.53      0.53      0.53       148\n",
            "weighted avg       0.54      0.54      0.54       148\n",
            "\n"
          ]
        },
        {
          "output_type": "stream",
          "name": "stderr",
          "text": [
            "/usr/local/lib/python3.7/dist-packages/ipykernel_launcher.py:21: SettingWithCopyWarning: \n",
            "A value is trying to be set on a copy of a slice from a DataFrame.\n",
            "Try using .loc[row_indexer,col_indexer] = value instead\n",
            "\n",
            "See the caveats in the documentation: https://pandas.pydata.org/pandas-docs/stable/user_guide/indexing.html#returning-a-view-versus-a-copy\n",
            "/usr/local/lib/python3.7/dist-packages/ipykernel_launcher.py:22: SettingWithCopyWarning: \n",
            "A value is trying to be set on a copy of a slice from a DataFrame.\n",
            "Try using .loc[row_indexer,col_indexer] = value instead\n",
            "\n",
            "See the caveats in the documentation: https://pandas.pydata.org/pandas-docs/stable/user_guide/indexing.html#returning-a-view-versus-a-copy\n",
            "/usr/local/lib/python3.7/dist-packages/ipykernel_launcher.py:32: SettingWithCopyWarning: \n",
            "A value is trying to be set on a copy of a slice from a DataFrame.\n",
            "Try using .loc[row_indexer,col_indexer] = value instead\n",
            "\n",
            "See the caveats in the documentation: https://pandas.pydata.org/pandas-docs/stable/user_guide/indexing.html#returning-a-view-versus-a-copy\n",
            "/usr/local/lib/python3.7/dist-packages/ipykernel_launcher.py:33: SettingWithCopyWarning: \n",
            "A value is trying to be set on a copy of a slice from a DataFrame.\n",
            "Try using .loc[row_indexer,col_indexer] = value instead\n",
            "\n",
            "See the caveats in the documentation: https://pandas.pydata.org/pandas-docs/stable/user_guide/indexing.html#returning-a-view-versus-a-copy\n",
            "/usr/local/lib/python3.7/dist-packages/ipykernel_launcher.py:37: SettingWithCopyWarning: \n",
            "A value is trying to be set on a copy of a slice from a DataFrame.\n",
            "Try using .loc[row_indexer,col_indexer] = value instead\n",
            "\n",
            "See the caveats in the documentation: https://pandas.pydata.org/pandas-docs/stable/user_guide/indexing.html#returning-a-view-versus-a-copy\n",
            "/usr/local/lib/python3.7/dist-packages/ipykernel_launcher.py:40: SettingWithCopyWarning: \n",
            "A value is trying to be set on a copy of a slice from a DataFrame.\n",
            "Try using .loc[row_indexer,col_indexer] = value instead\n",
            "\n",
            "See the caveats in the documentation: https://pandas.pydata.org/pandas-docs/stable/user_guide/indexing.html#returning-a-view-versus-a-copy\n"
          ]
        }
      ]
    },
    {
      "cell_type": "code",
      "metadata": {
        "id": "kK9aGrJ6wENY"
      },
      "source": [
        "#Objective 7.\n",
        "#Instantiate the Logistic Regression model object, and use its \".fit(*args)\" method to fit the model to the \n",
        "#training data.\n",
        "\n",
        "logistic = LogisticRegression()\n",
        "logistic = logistic.fit(X_train, y_train)"
      ],
      "execution_count": 21,
      "outputs": []
    },
    {
      "cell_type": "code",
      "metadata": {
        "id": "G7KHIMbcwENY",
        "colab": {
          "base_uri": "https://localhost:8080/",
          "height": 235
        },
        "outputId": "8e0ad069-82ef-48c8-a9bf-24f28d285ad0"
      },
      "source": [
        "#Objective 8.\n",
        "#Examine the model's coefficients by using its \".coef_\" method.\n",
        "\n",
        "pd.DataFrame(zip(X.columns, np.transpose(logistic.coef_)))"
      ],
      "execution_count": 22,
      "outputs": [
        {
          "output_type": "execute_result",
          "data": {
            "text/html": [
              "<div>\n",
              "<style scoped>\n",
              "    .dataframe tbody tr th:only-of-type {\n",
              "        vertical-align: middle;\n",
              "    }\n",
              "\n",
              "    .dataframe tbody tr th {\n",
              "        vertical-align: top;\n",
              "    }\n",
              "\n",
              "    .dataframe thead th {\n",
              "        text-align: right;\n",
              "    }\n",
              "</style>\n",
              "<table border=\"1\" class=\"dataframe\">\n",
              "  <thead>\n",
              "    <tr style=\"text-align: right;\">\n",
              "      <th></th>\n",
              "      <th>0</th>\n",
              "      <th>1</th>\n",
              "    </tr>\n",
              "  </thead>\n",
              "  <tbody>\n",
              "    <tr>\n",
              "      <th>0</th>\n",
              "      <td>Open</td>\n",
              "      <td>[0.4152975609973697]</td>\n",
              "    </tr>\n",
              "    <tr>\n",
              "      <th>1</th>\n",
              "      <td>High</td>\n",
              "      <td>[-0.1113023732832014]</td>\n",
              "    </tr>\n",
              "    <tr>\n",
              "      <th>2</th>\n",
              "      <td>Low</td>\n",
              "      <td>[0.11226979082129279]</td>\n",
              "    </tr>\n",
              "    <tr>\n",
              "      <th>3</th>\n",
              "      <td>Close</td>\n",
              "      <td>[-0.3483215718736895]</td>\n",
              "    </tr>\n",
              "    <tr>\n",
              "      <th>4</th>\n",
              "      <td>Close_15_Rolling</td>\n",
              "      <td>[-0.06807358361157423]</td>\n",
              "    </tr>\n",
              "    <tr>\n",
              "      <th>5</th>\n",
              "      <td>Open_1_Change</td>\n",
              "      <td>[-0.16938733434669015]</td>\n",
              "    </tr>\n",
              "  </tbody>\n",
              "</table>\n",
              "</div>"
            ],
            "text/plain": [
              "                  0                       1\n",
              "0              Open    [0.4152975609973697]\n",
              "1              High   [-0.1113023732832014]\n",
              "2               Low   [0.11226979082129279]\n",
              "3             Close   [-0.3483215718736895]\n",
              "4  Close_15_Rolling  [-0.06807358361157423]\n",
              "5     Open_1_Change  [-0.16938733434669015]"
            ]
          },
          "metadata": {},
          "execution_count": 22
        }
      ]
    },
    {
      "cell_type": "code",
      "metadata": {
        "id": "qs3Iov_oaYZZ",
        "colab": {
          "base_uri": "https://localhost:8080/",
          "height": 235
        },
        "outputId": "1559e352-2f83-490e-ab68-09ddd73c7b3d"
      },
      "source": [
        "pd.DataFrame({'colum':X.columns.values, 'b': logistic.coef_.ravel()})"
      ],
      "execution_count": 23,
      "outputs": [
        {
          "output_type": "execute_result",
          "data": {
            "text/html": [
              "<div>\n",
              "<style scoped>\n",
              "    .dataframe tbody tr th:only-of-type {\n",
              "        vertical-align: middle;\n",
              "    }\n",
              "\n",
              "    .dataframe tbody tr th {\n",
              "        vertical-align: top;\n",
              "    }\n",
              "\n",
              "    .dataframe thead th {\n",
              "        text-align: right;\n",
              "    }\n",
              "</style>\n",
              "<table border=\"1\" class=\"dataframe\">\n",
              "  <thead>\n",
              "    <tr style=\"text-align: right;\">\n",
              "      <th></th>\n",
              "      <th>colum</th>\n",
              "      <th>b</th>\n",
              "    </tr>\n",
              "  </thead>\n",
              "  <tbody>\n",
              "    <tr>\n",
              "      <th>0</th>\n",
              "      <td>Open</td>\n",
              "      <td>0.415298</td>\n",
              "    </tr>\n",
              "    <tr>\n",
              "      <th>1</th>\n",
              "      <td>High</td>\n",
              "      <td>-0.111302</td>\n",
              "    </tr>\n",
              "    <tr>\n",
              "      <th>2</th>\n",
              "      <td>Low</td>\n",
              "      <td>0.112270</td>\n",
              "    </tr>\n",
              "    <tr>\n",
              "      <th>3</th>\n",
              "      <td>Close</td>\n",
              "      <td>-0.348322</td>\n",
              "    </tr>\n",
              "    <tr>\n",
              "      <th>4</th>\n",
              "      <td>Close_15_Rolling</td>\n",
              "      <td>-0.068074</td>\n",
              "    </tr>\n",
              "    <tr>\n",
              "      <th>5</th>\n",
              "      <td>Open_1_Change</td>\n",
              "      <td>-0.169387</td>\n",
              "    </tr>\n",
              "  </tbody>\n",
              "</table>\n",
              "</div>"
            ],
            "text/plain": [
              "              colum         b\n",
              "0              Open  0.415298\n",
              "1              High -0.111302\n",
              "2               Low  0.112270\n",
              "3             Close -0.348322\n",
              "4  Close_15_Rolling -0.068074\n",
              "5     Open_1_Change -0.169387"
            ]
          },
          "metadata": {},
          "execution_count": 23
        }
      ]
    },
    {
      "cell_type": "code",
      "metadata": {
        "id": "vrxzdSDewENZ"
      },
      "source": [
        "#Objective 9.\n",
        "#Use the model's \".predict_proba(*args)\" and \".predict(*args)\" methods to generate predictions over the test set.\n",
        "\n",
        "probabilities = logistic.predict_proba(X_test)\n",
        "predictions = logistic.predict(X_test)"
      ],
      "execution_count": 24,
      "outputs": []
    },
    {
      "cell_type": "code",
      "metadata": {
        "id": "3SSUlXH2wENZ",
        "colab": {
          "base_uri": "https://localhost:8080/"
        },
        "outputId": "ebfc96b5-76dd-4b50-9650-80c65342c929"
      },
      "source": [
        "#Objective 10.\n",
        "#Use the function \"metrics.confusion_matrix(*args)\" to create a confusion matrix comparing the predicted and true\n",
        "#classification labels over the test set.\n",
        "\n",
        "metrics.confusion_matrix(y_test, predictions)"
      ],
      "execution_count": 25,
      "outputs": [
        {
          "output_type": "execute_result",
          "data": {
            "text/plain": [
              "array([[30, 35],\n",
              "       [33, 50]])"
            ]
          },
          "metadata": {},
          "execution_count": 25
        }
      ]
    },
    {
      "cell_type": "code",
      "metadata": {
        "colab": {
          "base_uri": "https://localhost:8080/"
        },
        "id": "LLzA5AWEwwy2",
        "outputId": "ed3689b6-f76a-4ece-cadc-2fee178f0a91"
      },
      "source": [
        "# Alternative method using report classfication \n",
        "\n",
        "print(sklearn.metrics.classification_report(y_pred = predictions,y_true= y_test))"
      ],
      "execution_count": 32,
      "outputs": [
        {
          "output_type": "stream",
          "name": "stdout",
          "text": [
            "              precision    recall  f1-score   support\n",
            "\n",
            "          -1       0.48      0.46      0.47        65\n",
            "           1       0.59      0.60      0.60        83\n",
            "\n",
            "    accuracy                           0.54       148\n",
            "   macro avg       0.53      0.53      0.53       148\n",
            "weighted avg       0.54      0.54      0.54       148\n",
            "\n"
          ]
        }
      ]
    },
    {
      "cell_type": "code",
      "metadata": {
        "id": "KpaBeAAswENa",
        "colab": {
          "base_uri": "https://localhost:8080/"
        },
        "outputId": "616d056d-567b-4517-cde5-15af6fd5b90d"
      },
      "source": [
        "#Objective 11.\n",
        "#Calculate the model's accuracy on the test set using its \".score(*args)\" method.\n",
        "\n",
        "logistic.score(X_test, y_test)"
      ],
      "execution_count": 26,
      "outputs": [
        {
          "output_type": "execute_result",
          "data": {
            "text/plain": [
              "0.5405405405405406"
            ]
          },
          "metadata": {},
          "execution_count": 26
        }
      ]
    },
    {
      "cell_type": "code",
      "metadata": {
        "id": "l34o-xSRwENa",
        "colab": {
          "base_uri": "https://localhost:8080/"
        },
        "outputId": "f8484ad5-dbb9-460b-bebe-22accca7e1c9"
      },
      "source": [
        "#Objective 12.\n",
        "#Use five-fold cross validation to cross-check the accuracy of the model over different held-out test sets.  This\n",
        "#is where you should use the function \"cross_val_score(*args)\".\n",
        "\n",
        "cross_val = cross_val_score(LogisticRegression() ,X_test, y_test)\n",
        "cross_val"
      ],
      "execution_count": 27,
      "outputs": [
        {
          "output_type": "stream",
          "name": "stderr",
          "text": [
            "/usr/local/lib/python3.7/dist-packages/sklearn/linear_model/_logistic.py:940: ConvergenceWarning: lbfgs failed to converge (status=1):\n",
            "STOP: TOTAL NO. of ITERATIONS REACHED LIMIT.\n",
            "\n",
            "Increase the number of iterations (max_iter) or scale the data as shown in:\n",
            "    https://scikit-learn.org/stable/modules/preprocessing.html\n",
            "Please also refer to the documentation for alternative solver options:\n",
            "    https://scikit-learn.org/stable/modules/linear_model.html#logistic-regression\n",
            "  extra_warning_msg=_LOGISTIC_SOLVER_CONVERGENCE_MSG)\n",
            "/usr/local/lib/python3.7/dist-packages/sklearn/linear_model/_logistic.py:940: ConvergenceWarning: lbfgs failed to converge (status=1):\n",
            "STOP: TOTAL NO. of ITERATIONS REACHED LIMIT.\n",
            "\n",
            "Increase the number of iterations (max_iter) or scale the data as shown in:\n",
            "    https://scikit-learn.org/stable/modules/preprocessing.html\n",
            "Please also refer to the documentation for alternative solver options:\n",
            "    https://scikit-learn.org/stable/modules/linear_model.html#logistic-regression\n",
            "  extra_warning_msg=_LOGISTIC_SOLVER_CONVERGENCE_MSG)\n",
            "/usr/local/lib/python3.7/dist-packages/sklearn/linear_model/_logistic.py:940: ConvergenceWarning: lbfgs failed to converge (status=1):\n",
            "STOP: TOTAL NO. of ITERATIONS REACHED LIMIT.\n",
            "\n",
            "Increase the number of iterations (max_iter) or scale the data as shown in:\n",
            "    https://scikit-learn.org/stable/modules/preprocessing.html\n",
            "Please also refer to the documentation for alternative solver options:\n",
            "    https://scikit-learn.org/stable/modules/linear_model.html#logistic-regression\n",
            "  extra_warning_msg=_LOGISTIC_SOLVER_CONVERGENCE_MSG)\n"
          ]
        },
        {
          "output_type": "execute_result",
          "data": {
            "text/plain": [
              "array([0.56666667, 0.73333333, 0.53333333, 0.51724138, 0.65517241])"
            ]
          },
          "metadata": {},
          "execution_count": 27
        }
      ]
    },
    {
      "cell_type": "code",
      "metadata": {
        "colab": {
          "base_uri": "https://localhost:8080/"
        },
        "id": "cC90fFSUvvIW",
        "outputId": "6bf1feab-ffd2-4041-eee0-d7a289f22f98"
      },
      "source": [
        "cross_val"
      ],
      "execution_count": 29,
      "outputs": [
        {
          "output_type": "execute_result",
          "data": {
            "text/plain": [
              "array([0.56666667, 0.73333333, 0.53333333, 0.51724138, 0.65517241])"
            ]
          },
          "metadata": {},
          "execution_count": 29
        }
      ]
    }
  ]
}